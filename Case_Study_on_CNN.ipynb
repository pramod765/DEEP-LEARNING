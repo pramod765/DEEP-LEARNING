{
  "nbformat": 4,
  "nbformat_minor": 0,
  "metadata": {
    "colab": {
      "name": "Case_Study_on_CNN.ipynb",
      "provenance": []
    },
    "kernelspec": {
      "name": "python3",
      "display_name": "Python 3"
    },
    "language_info": {
      "name": "python"
    }
  },
  "cells": [
    {
      "cell_type": "code",
      "metadata": {
        "id": "s8H9afxYHj3I"
      },
      "source": [
        "import tensorflow as tf\n",
        "import numpy as np\n",
        "import matplotlib.pyplot as plt\n",
        "from tensorflow.keras.datasets import cifar10"
      ],
      "execution_count": 1,
      "outputs": []
    },
    {
      "cell_type": "code",
      "metadata": {
        "id": "EmxGmhvmJ73C"
      },
      "source": [
        "#loading the dataset\n",
        "class_names=['airplane','automobile','bird','cat','deer','dog','frog','horse','ship','truck']"
      ],
      "execution_count": 2,
      "outputs": []
    },
    {
      "cell_type": "code",
      "metadata": {
        "colab": {
          "base_uri": "https://localhost:8080/"
        },
        "id": "0Is3zzp4KSZS",
        "outputId": "1d362982-6514-4fa7-9406-23111a11022c"
      },
      "source": [
        "(X_train,y_train),(X_test,y_test)=cifar10.load_data()"
      ],
      "execution_count": 3,
      "outputs": [
        {
          "output_type": "stream",
          "name": "stdout",
          "text": [
            "Downloading data from https://www.cs.toronto.edu/~kriz/cifar-10-python.tar.gz\n",
            "170500096/170498071 [==============================] - 3s 0us/step\n",
            "170508288/170498071 [==============================] - 3s 0us/step\n"
          ]
        }
      ]
    },
    {
      "cell_type": "code",
      "metadata": {
        "id": "x2Hl8Q7MKb7J"
      },
      "source": [
        "#image normalization\n",
        "X_train=X_train/255.0\n",
        "X_test=X_test/255.0"
      ],
      "execution_count": 4,
      "outputs": []
    },
    {
      "cell_type": "code",
      "metadata": {
        "colab": {
          "base_uri": "https://localhost:8080/"
        },
        "id": "Hp3vZIdAKo8P",
        "outputId": "5cc7d6c1-2b95-49d3-9abb-64e01ca70495"
      },
      "source": [
        "X_train.shape"
      ],
      "execution_count": 5,
      "outputs": [
        {
          "output_type": "execute_result",
          "data": {
            "text/plain": [
              "(50000, 32, 32, 3)"
            ]
          },
          "metadata": {},
          "execution_count": 5
        }
      ]
    },
    {
      "cell_type": "code",
      "metadata": {
        "colab": {
          "base_uri": "https://localhost:8080/"
        },
        "id": "Ziwsf5ZTKv08",
        "outputId": "b6f12128-e81e-49a8-9bb7-4bb69e40fafb"
      },
      "source": [
        "X_test.shape"
      ],
      "execution_count": 6,
      "outputs": [
        {
          "output_type": "execute_result",
          "data": {
            "text/plain": [
              "(10000, 32, 32, 3)"
            ]
          },
          "metadata": {},
          "execution_count": 6
        }
      ]
    },
    {
      "cell_type": "code",
      "metadata": {
        "colab": {
          "base_uri": "https://localhost:8080/",
          "height": 284
        },
        "id": "8K9pPnsKK6CE",
        "outputId": "a44d5285-687c-4ab3-b4d7-c85789a4f365"
      },
      "source": [
        "plt.imshow(X_test[5])"
      ],
      "execution_count": 8,
      "outputs": [
        {
          "output_type": "execute_result",
          "data": {
            "text/plain": [
              "<matplotlib.image.AxesImage at 0x7f506d9adc50>"
            ]
          },
          "metadata": {},
          "execution_count": 8
        },
        {
          "output_type": "display_data",
          "data": {
            "image/png": "[encoded data removed]",
            "text/plain": [
              "<Figure size 432x288 with 1 Axes>"
            ]
          },
          "metadata": {
            "needs_background": "light"
          }
        }
      ]
    },
    {
      "cell_type": "code",
      "metadata": {
        "colab": {
          "base_uri": "https://localhost:8080/",
          "height": 284
        },
        "id": "XnSzrWXVLC9F",
        "outputId": "69594a65-0bfb-48d2-f99d-9f337fd7739d"
      },
      "source": [
        "plt.imshow(X_test[35])"
      ],
      "execution_count": 9,
      "outputs": [
        {
          "output_type": "execute_result",
          "data": {
            "text/plain": [
              "<matplotlib.image.AxesImage at 0x7f506c58d110>"
            ]
          },
          "metadata": {},
          "execution_count": 9
        },
        {
          "output_type": "display_data",
          "data": {
            "image/png": "[encoded data removed]",
            "text/plain": [
              "<Figure size 432x288 with 1 Axes>"
            ]
          },
          "metadata": {
            "needs_background": "light"
          }
        }
      ]
    },
    {
      "cell_type": "code",
      "metadata": {
        "colab": {
          "base_uri": "https://localhost:8080/",
          "height": 284
        },
        "id": "xHptNUbdLLRy",
        "outputId": "f89f28fa-7400-489b-dad5-e312eb35d564"
      },
      "source": [
        "plt.imshow(X_test[25])"
      ],
      "execution_count": 10,
      "outputs": [
        {
          "output_type": "execute_result",
          "data": {
            "text/plain": [
              "<matplotlib.image.AxesImage at 0x7f506c5834d0>"
            ]
          },
          "metadata": {},
          "execution_count": 10
        },
        {
          "output_type": "display_data",
          "data": {
            "image/png": "[encoded data removed]",
            "text/plain": [
              "<Figure size 432x288 with 1 Axes>"
            ]
          },
          "metadata": {
            "needs_background": "light"
          }
        }
      ]
    },
    {
      "cell_type": "code",
      "metadata": {
        "colab": {
          "base_uri": "https://localhost:8080/",
          "height": 284
        },
        "id": "-Di0uupoLWL5",
        "outputId": "14f4537d-aa6e-4681-a45b-bd8199232153"
      },
      "source": [
        "plt.imshow(X_test[40])"
      ],
      "execution_count": 11,
      "outputs": [
        {
          "output_type": "execute_result",
          "data": {
            "text/plain": [
              "<matplotlib.image.AxesImage at 0x7f506c4ee7d0>"
            ]
          },
          "metadata": {},
          "execution_count": 11
        },
        {
          "output_type": "display_data",
          "data": {
            "image/png": "[encoded data removed]",
            "text/plain": [
              "<Figure size 432x288 with 1 Axes>"
            ]
          },
          "metadata": {
            "needs_background": "light"
          }
        }
      ]
    },
    {
      "cell_type": "code",
      "metadata": {
        "id": "VmZnId4WLZ7U"
      },
      "source": [
        "#model building"
      ],
      "execution_count": 12,
      "outputs": []
    },
    {
      "cell_type": "code",
      "metadata": {
        "id": "2hcK2bRbMjXE"
      },
      "source": [
        "#defining the model\n",
        "model=tf.keras.models.Sequential()"
      ],
      "execution_count": 13,
      "outputs": []
    },
    {
      "cell_type": "code",
      "metadata": {
        "id": "eIEsIAFlMv4k"
      },
      "source": [
        "#adding the first CNN Layer\n",
        "\n",
        "#filter : 32\n",
        "#kernel size : 3*3\n",
        "#padding : same(zero padding)\n",
        "#activation : Relu\n",
        "#input shape : (32,32,3)\n",
        "\n",
        "model.add(tf.keras.layers.Conv2D(filters=32,kernel_size=3,padding=\"same\",activation='relu',input_shape=[32,32,3]))"
      ],
      "execution_count": 14,
      "outputs": []
    },
    {
      "cell_type": "code",
      "metadata": {
        "id": "7G8Nz7kLOaEk"
      },
      "source": [
        "#adding the second CNN Layer and 1st max pooling layer\n",
        "\n",
        "#CNN Layer\n",
        "#filter : 32\n",
        "#kernel_size : 3*3\n",
        "#padding : same\n",
        "#activation : relu\n",
        "\n",
        "#Max Pooling Layer\n",
        "#pool_size : 2\n",
        "#strides : 2\n",
        "#padding : valid(ones padding)\n",
        "\n",
        "model.add(tf.keras.layers.Conv2D(filters=32,kernel_size=3,padding='same',activation='relu'))\n",
        "\n",
        "model.add(tf.keras.layers.MaxPool2D(pool_size=2,strides=2,padding='valid'))"
      ],
      "execution_count": 15,
      "outputs": []
    },
    {
      "cell_type": "code",
      "metadata": {
        "id": "cIB0iiQ3P0em"
      },
      "source": [
        "#adding the third CNN layer\n",
        "\n",
        "#filter : 64\n",
        "#kernel size : 3*3\n",
        "#padding : same(zero padding)\n",
        "#activation : Relu\n",
        "#input shape : (32,32,3)\n",
        "\n",
        "model.add(tf.keras.layers.Conv2D(filters=64,kernel_size=3,padding=\"same\",activation='relu',input_shape=[32,32,3]))\n"
      ],
      "execution_count": 16,
      "outputs": []
    },
    {
      "cell_type": "code",
      "metadata": {
        "id": "WV0ynh3IRqnV"
      },
      "source": [
        "#adding the fourth CNN Layer and 2nd max pooling layer\n",
        "\n",
        "#CNN Layer\n",
        "#filter : 64\n",
        "#kernel_size : 3*3\n",
        "#padding : same\n",
        "#activation : relu\n",
        "\n",
        "#Max Pooling Layer\n",
        "#pool_size : 2\n",
        "#strides : 2\n",
        "#padding : valid(ones padding)\n",
        "\n",
        "model.add(tf.keras.layers.Conv2D(filters=64,kernel_size=3,padding='same',activation='relu'))\n",
        "\n",
        "model.add(tf.keras.layers.MaxPool2D(pool_size=2,strides=2,padding='valid'))"
      ],
      "execution_count": 17,
      "outputs": []
    },
    {
      "cell_type": "code",
      "metadata": {
        "id": "ZLqmtkFmR-YT"
      },
      "source": [
        "#adding the flatten layer\n",
        "\n",
        "model.add(tf.keras.layers.Flatten())"
      ],
      "execution_count": 18,
      "outputs": []
    },
    {
      "cell_type": "code",
      "metadata": {
        "id": "OsdPYyvbTTvK"
      },
      "source": [
        "#adding the first dense layer\n",
        "\n",
        "#units/neurons : 128\n",
        "#activation : relu\n",
        "\n",
        "model.add(tf.keras.layers.Dense(units=128,activation='relu'))"
      ],
      "execution_count": 19,
      "outputs": []
    },
    {
      "cell_type": "code",
      "metadata": {
        "id": "mLJvpu5SUKAc"
      },
      "source": [
        "#adding the second dense layers(output layer)\n",
        "\n",
        "#units : 10 (same as the number of classes)\n",
        "#activation : softmax\n",
        "\n",
        "model.add(tf.keras.layers.Dense(units=10,activation='softmax'))"
      ],
      "execution_count": 20,
      "outputs": []
    },
    {
      "cell_type": "code",
      "metadata": {
        "colab": {
          "base_uri": "https://localhost:8080/"
        },
        "id": "jmK8f-vFU_A3",
        "outputId": "051250fe-1050-4730-f05e-840080f44a5c"
      },
      "source": [
        "model.summary()"
      ],
      "execution_count": 21,
      "outputs": [
        {
          "output_type": "stream",
          "name": "stdout",
          "text": [
            "Model: \"sequential\"\n",
            "_________________________________________________________________\n",
            " Layer (type)                Output Shape              Param #   \n",
            "=================================================================\n",
            " conv2d (Conv2D)             (None, 32, 32, 32)        896       \n",
            "                                                                 \n",
            " conv2d_1 (Conv2D)           (None, 32, 32, 32)        9248      \n",
            "                                                                 \n",
            " max_pooling2d (MaxPooling2D  (None, 16, 16, 32)       0         \n",
            " )                                                               \n",
            "                                                                 \n",
            " conv2d_2 (Conv2D)           (None, 16, 16, 64)        18496     \n",
            "                                                                 \n",
            " conv2d_3 (Conv2D)           (None, 16, 16, 64)        36928     \n",
            "                                                                 \n",
            " max_pooling2d_1 (MaxPooling  (None, 8, 8, 64)         0         \n",
            " 2D)                                                             \n",
            "                                                                 \n",
            " flatten (Flatten)           (None, 4096)              0         \n",
            "                                                                 \n",
            " dense (Dense)               (None, 128)               524416    \n",
            "                                                                 \n",
            " dense_1 (Dense)             (None, 10)                1290      \n",
            "                                                                 \n",
            "=================================================================\n",
            "Total params: 591,274\n",
            "Trainable params: 591,274\n",
            "Non-trainable params: 0\n",
            "_________________________________________________________________\n"
          ]
        }
      ]
    },
    {
      "cell_type": "code",
      "metadata": {
        "id": "FKbUox6hVlG5"
      },
      "source": [
        "model.compile(loss='sparse_categorical_crossentropy',optimizer='AdaGrad',metrics=['sparse_categorical_accuracy'])"
      ],
      "execution_count": 23,
      "outputs": []
    },
    {
      "cell_type": "code",
      "metadata": {
        "colab": {
          "base_uri": "https://localhost:8080/"
        },
        "id": "0cr-4B2hVB5K",
        "outputId": "d3b52c07-11d0-4758-ffa6-2bf2ed71c644"
      },
      "source": [
        "#training the model\n",
        "model.fit(X_train,y_train, epochs=3)"
      ],
      "execution_count": 26,
      "outputs": [
        {
          "output_type": "stream",
          "name": "stdout",
          "text": [
            "Epoch 1/3\n",
            "1563/1563 [==============================] - 265s 170ms/step - loss: 2.0877 - sparse_categorical_accuracy: 0.2381\n",
            "Epoch 2/3\n",
            "1563/1563 [==============================] - 266s 170ms/step - loss: 1.8708 - sparse_categorical_accuracy: 0.3365\n",
            "Epoch 3/3\n",
            "1563/1563 [==============================] - 265s 170ms/step - loss: 1.7619 - sparse_categorical_accuracy: 0.3776\n"
          ]
        },
        {
          "output_type": "execute_result",
          "data": {
            "text/plain": [
              "<keras.callbacks.History at 0x7f5061858910>"
            ]
          },
          "metadata": {},
          "execution_count": 26
        }
      ]
    },
    {
      "cell_type": "code",
      "metadata": {
        "colab": {
          "base_uri": "https://localhost:8080/"
        },
        "id": "PF_MieWsVib1",
        "outputId": "58a54a91-cedf-40cb-f6e6-ecd8feb19ece"
      },
      "source": [
        "#model evaluation\n",
        "test_loss, test_accuracy = model.evaluate(X_test,y_test)"
      ],
      "execution_count": 27,
      "outputs": [
        {
          "output_type": "stream",
          "name": "stdout",
          "text": [
            "313/313 [==============================] - 14s 44ms/step - loss: 1.7098 - sparse_categorical_accuracy: 0.4003\n"
          ]
        }
      ]
    }
  ]
}